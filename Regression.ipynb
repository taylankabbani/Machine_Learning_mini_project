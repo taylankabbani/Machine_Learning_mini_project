{
 "cells": [
  {
   "cell_type": "code",
   "execution_count": 1,
   "metadata": {},
   "outputs": [],
   "source": [
    "# python version: python3"
   ]
  },
  {
   "cell_type": "markdown",
   "metadata": {},
   "source": [
    "## DATA PREPARATION"
   ]
  },
  {
   "cell_type": "markdown",
   "metadata": {},
   "source": [
    "### part a"
   ]
  },
  {
   "cell_type": "code",
   "execution_count": 2,
   "metadata": {},
   "outputs": [],
   "source": [
    "import pandas as pd\n",
    "\n",
    "# Training data:\n",
    "training = pd.read_csv(\"training.csv\")\n",
    "\n",
    "# All training features except the label(price) \n",
    "train_x_a = training.drop(\"price\", axis = 1)\n",
    "\n",
    "\n",
    "# extracting the label feature(price), [[]] is used to reserve the dataframe type instead of series by using just []\n",
    "train_y = training[[\"price\"]]"
   ]
  },
  {
   "cell_type": "code",
   "execution_count": 3,
   "metadata": {},
   "outputs": [
    {
     "data": {
      "text/html": [
       "<div>\n",
       "<style scoped>\n",
       "    .dataframe tbody tr th:only-of-type {\n",
       "        vertical-align: middle;\n",
       "    }\n",
       "\n",
       "    .dataframe tbody tr th {\n",
       "        vertical-align: top;\n",
       "    }\n",
       "\n",
       "    .dataframe thead th {\n",
       "        text-align: right;\n",
       "    }\n",
       "</style>\n",
       "<table border=\"1\" class=\"dataframe\">\n",
       "  <thead>\n",
       "    <tr style=\"text-align: right;\">\n",
       "      <th></th>\n",
       "      <th>fueltype</th>\n",
       "      <th>aspiration</th>\n",
       "      <th>doornumber</th>\n",
       "      <th>carbody</th>\n",
       "      <th>drivewheel</th>\n",
       "      <th>enginelocation</th>\n",
       "      <th>wheelbase</th>\n",
       "      <th>carlength</th>\n",
       "      <th>carwidth</th>\n",
       "      <th>carheight</th>\n",
       "      <th>...</th>\n",
       "      <th>cylindernumber</th>\n",
       "      <th>enginesize</th>\n",
       "      <th>fuelsystem</th>\n",
       "      <th>boreratio</th>\n",
       "      <th>stroke</th>\n",
       "      <th>compressionratio</th>\n",
       "      <th>horsepower</th>\n",
       "      <th>peakrpm</th>\n",
       "      <th>citympg</th>\n",
       "      <th>highwaympg</th>\n",
       "    </tr>\n",
       "  </thead>\n",
       "  <tbody>\n",
       "    <tr>\n",
       "      <td>0</td>\n",
       "      <td>gas</td>\n",
       "      <td>std</td>\n",
       "      <td>four</td>\n",
       "      <td>sedan</td>\n",
       "      <td>rwd</td>\n",
       "      <td>front</td>\n",
       "      <td>104.3</td>\n",
       "      <td>188.8</td>\n",
       "      <td>67.2</td>\n",
       "      <td>56.2</td>\n",
       "      <td>...</td>\n",
       "      <td>four</td>\n",
       "      <td>141.0</td>\n",
       "      <td>mpfi</td>\n",
       "      <td>NaN</td>\n",
       "      <td>3.15</td>\n",
       "      <td>9.5</td>\n",
       "      <td>114.0</td>\n",
       "      <td>5400.0</td>\n",
       "      <td>24.0</td>\n",
       "      <td>28.0</td>\n",
       "    </tr>\n",
       "    <tr>\n",
       "      <td>1</td>\n",
       "      <td>gas</td>\n",
       "      <td>std</td>\n",
       "      <td>four</td>\n",
       "      <td>wagon</td>\n",
       "      <td>fwd</td>\n",
       "      <td>front</td>\n",
       "      <td>94.5</td>\n",
       "      <td>170.2</td>\n",
       "      <td>63.8</td>\n",
       "      <td>53.5</td>\n",
       "      <td>...</td>\n",
       "      <td>four</td>\n",
       "      <td>97.0</td>\n",
       "      <td>2bbl</td>\n",
       "      <td>3.15</td>\n",
       "      <td>3.29</td>\n",
       "      <td>9.4</td>\n",
       "      <td>69.0</td>\n",
       "      <td>5200.0</td>\n",
       "      <td>31.0</td>\n",
       "      <td>37.0</td>\n",
       "    </tr>\n",
       "  </tbody>\n",
       "</table>\n",
       "<p>2 rows × 22 columns</p>\n",
       "</div>"
      ],
      "text/plain": [
       "  fueltype aspiration doornumber carbody drivewheel enginelocation  wheelbase  \\\n",
       "0      gas        std       four   sedan        rwd          front      104.3   \n",
       "1      gas        std       four   wagon        fwd          front       94.5   \n",
       "\n",
       "   carlength  carwidth  carheight  ...  cylindernumber enginesize fuelsystem  \\\n",
       "0      188.8      67.2       56.2  ...            four      141.0       mpfi   \n",
       "1      170.2      63.8       53.5  ...            four       97.0       2bbl   \n",
       "\n",
       "   boreratio stroke  compressionratio  horsepower  peakrpm  citympg  \\\n",
       "0        NaN   3.15               9.5       114.0   5400.0     24.0   \n",
       "1       3.15   3.29               9.4        69.0   5200.0     31.0   \n",
       "\n",
       "   highwaympg  \n",
       "0        28.0  \n",
       "1        37.0  \n",
       "\n",
       "[2 rows x 22 columns]"
      ]
     },
     "execution_count": 3,
     "metadata": {},
     "output_type": "execute_result"
    }
   ],
   "source": [
    "train_x_a.head(2)"
   ]
  },
  {
   "cell_type": "code",
   "execution_count": 4,
   "metadata": {},
   "outputs": [
    {
     "data": {
      "text/html": [
       "<div>\n",
       "<style scoped>\n",
       "    .dataframe tbody tr th:only-of-type {\n",
       "        vertical-align: middle;\n",
       "    }\n",
       "\n",
       "    .dataframe tbody tr th {\n",
       "        vertical-align: top;\n",
       "    }\n",
       "\n",
       "    .dataframe thead th {\n",
       "        text-align: right;\n",
       "    }\n",
       "</style>\n",
       "<table border=\"1\" class=\"dataframe\">\n",
       "  <thead>\n",
       "    <tr style=\"text-align: right;\">\n",
       "      <th></th>\n",
       "      <th>price</th>\n",
       "    </tr>\n",
       "  </thead>\n",
       "  <tbody>\n",
       "    <tr>\n",
       "      <td>0</td>\n",
       "      <td>15985.0</td>\n",
       "    </tr>\n",
       "    <tr>\n",
       "      <td>1</td>\n",
       "      <td>7349.0</td>\n",
       "    </tr>\n",
       "  </tbody>\n",
       "</table>\n",
       "</div>"
      ],
      "text/plain": [
       "     price\n",
       "0  15985.0\n",
       "1   7349.0"
      ]
     },
     "execution_count": 4,
     "metadata": {},
     "output_type": "execute_result"
    }
   ],
   "source": [
    "train_y.head(2)"
   ]
  },
  {
   "cell_type": "markdown",
   "metadata": {},
   "source": [
    "### part b"
   ]
  },
  {
   "cell_type": "code",
   "execution_count": 5,
   "metadata": {},
   "outputs": [
    {
     "name": "stdout",
     "output_type": "stream",
     "text": [
      "<class 'pandas.core.frame.DataFrame'>\n",
      "RangeIndex: 164 entries, 0 to 163\n",
      "Data columns (total 23 columns):\n",
      "fueltype            164 non-null object\n",
      "aspiration          164 non-null object\n",
      "doornumber          164 non-null object\n",
      "carbody             164 non-null object\n",
      "drivewheel          164 non-null object\n",
      "enginelocation      164 non-null object\n",
      "wheelbase           156 non-null float64\n",
      "carlength           160 non-null float64\n",
      "carwidth            156 non-null float64\n",
      "carheight           154 non-null float64\n",
      "curbweight          157 non-null float64\n",
      "enginetype          164 non-null object\n",
      "cylindernumber      164 non-null object\n",
      "enginesize          154 non-null float64\n",
      "fuelsystem          164 non-null object\n",
      "boreratio           152 non-null float64\n",
      "stroke              160 non-null float64\n",
      "compressionratio    153 non-null float64\n",
      "horsepower          159 non-null float64\n",
      "peakrpm             155 non-null float64\n",
      "citympg             160 non-null float64\n",
      "highwaympg          156 non-null float64\n",
      "price               155 non-null float64\n",
      "dtypes: float64(14), object(9)\n",
      "memory usage: 29.6+ KB\n"
     ]
    }
   ],
   "source": [
    "#Summary of the basic information about this DataFrame, to have an idea on both the null values and the type of each column,\n",
    "\n",
    "training.info()\n",
    "\n",
    "# no null values in categorical features"
   ]
  },
  {
   "cell_type": "code",
   "execution_count": 6,
   "metadata": {},
   "outputs": [
    {
     "data": {
      "text/plain": [
       "fueltype            False\n",
       "aspiration          False\n",
       "doornumber          False\n",
       "carbody             False\n",
       "drivewheel          False\n",
       "enginelocation      False\n",
       "enginetype          False\n",
       "cylindernumber      False\n",
       "fuelsystem          False\n",
       "wheelbase           False\n",
       "carlength           False\n",
       "carwidth            False\n",
       "carheight           False\n",
       "curbweight          False\n",
       "enginesize          False\n",
       "boreratio           False\n",
       "stroke              False\n",
       "compressionratio    False\n",
       "horsepower          False\n",
       "peakrpm             False\n",
       "citympg             False\n",
       "highwaympg          False\n",
       "dtype: bool"
      ]
     },
     "execution_count": 6,
     "metadata": {},
     "output_type": "execute_result"
    }
   ],
   "source": [
    "# defining a function to find columns contain NAN in the dataframe\n",
    "def find_non_columns(dataframe):\n",
    "    #empty list\n",
    "    l = []\n",
    "    for i in dataframe.columns:\n",
    "        #if count of NAN values in a column != 0 save the name of this column\n",
    "        if dataframe[i].isnull().sum() != 0:\n",
    "            l.append(i)\n",
    "    return l\n",
    "\n",
    "# column names that contain missing values\n",
    "nan_columns = find_non_columns(train_x_a)\n",
    "\n",
    "\n",
    "# Handling NAN in the dataframe:\n",
    "\n",
    "# dropping categorical features so we can calculate the median\n",
    "def dropping_categorical(dataframe):\n",
    "    #checking the type of each column in the dataframe\n",
    "    for i in dataframe.columns:\n",
    "        # if the feature is not float, drop it from dataframe\n",
    "        if (dataframe[[\"{}\".format(i)]].dtypes == \"object\").bool() == True:\n",
    "            dataframe = dataframe.drop(\"{}\".format(i), axis = 1)\n",
    "    return dataframe\n",
    "\n",
    "# only numeric features dataset\n",
    "train_x_num = dropping_categorical(train_x_a)\n",
    "\n",
    "\n",
    "from sklearn.impute import SimpleImputer \n",
    "imputer = SimpleImputer(strategy=\"median\")    # Setting the strategy of replacing NAN with medians\n",
    "imputer.fit(train_x_num)                    # computing the median for each column feature \n",
    "medians = imputer.statistics_                 # Saving computed medians\n",
    "\n",
    "#Check that this is the same as manually computing the median of each attribute:\n",
    "medians == train_x_num.median().values \n",
    "\n",
    "# Imputing missing values & transforming the dataset back to Pd.dataframe\n",
    "train_x_num = pd.DataFrame(imputer.transform(train_x_num), columns = train_x_num.columns,\n",
    "                            index = train_x_num.index)\n",
    "\n",
    "# Replacing the features with missing values in train_x_a with the ones filled by median\n",
    "train_x_a_all = pd.concat([train_x_a.drop(columns = nan_columns) , train_x_num], axis = 1)\n",
    "\n",
    "\n",
    "# Removing price-NaN rows from the label column(price)\n",
    "nan_label_index = list(train_y[train_y.isnull().any(axis = 1)].index)   #indexs of NAN rows in price column\n",
    "train_y = train_y.drop(nan_label_index, axis = 0).reset_index(drop = True)   # drop = True to resets the index to the default integer index\n",
    "\n",
    "# Removing price-NaN rows from train_x_a_all\n",
    "train_x_b = train_x_a_all.drop(nan_label_index, axis = 0).reset_index(drop = True) \n",
    "\n",
    "# Removing price-NaN rows from train_x_num:\n",
    "train_x_num = train_x_num.drop(nan_label_index, axis = 0).reset_index(drop = True) \n",
    "\n",
    "# Checking if train_x_b contains NAN:\n",
    "train_x_b.isnull().any()"
   ]
  },
  {
   "cell_type": "code",
   "execution_count": 7,
   "metadata": {},
   "outputs": [
    {
     "name": "stdout",
     "output_type": "stream",
     "text": [
      "['wheelbase', 'carlength', 'carwidth', 'carheight', 'curbweight', 'enginesize', 'boreratio', 'stroke', 'compressionratio', 'horsepower', 'peakrpm', 'citympg', 'highwaympg']\n"
     ]
    }
   ],
   "source": [
    "print(nan_columns)"
   ]
  },
  {
   "cell_type": "code",
   "execution_count": 8,
   "metadata": {},
   "outputs": [
    {
     "data": {
      "text/html": [
       "<div>\n",
       "<style scoped>\n",
       "    .dataframe tbody tr th:only-of-type {\n",
       "        vertical-align: middle;\n",
       "    }\n",
       "\n",
       "    .dataframe tbody tr th {\n",
       "        vertical-align: top;\n",
       "    }\n",
       "\n",
       "    .dataframe thead th {\n",
       "        text-align: right;\n",
       "    }\n",
       "</style>\n",
       "<table border=\"1\" class=\"dataframe\">\n",
       "  <thead>\n",
       "    <tr style=\"text-align: right;\">\n",
       "      <th></th>\n",
       "      <th>fueltype</th>\n",
       "      <th>aspiration</th>\n",
       "      <th>doornumber</th>\n",
       "      <th>carbody</th>\n",
       "      <th>drivewheel</th>\n",
       "      <th>enginelocation</th>\n",
       "      <th>enginetype</th>\n",
       "      <th>cylindernumber</th>\n",
       "      <th>fuelsystem</th>\n",
       "      <th>wheelbase</th>\n",
       "      <th>...</th>\n",
       "      <th>carheight</th>\n",
       "      <th>curbweight</th>\n",
       "      <th>enginesize</th>\n",
       "      <th>boreratio</th>\n",
       "      <th>stroke</th>\n",
       "      <th>compressionratio</th>\n",
       "      <th>horsepower</th>\n",
       "      <th>peakrpm</th>\n",
       "      <th>citympg</th>\n",
       "      <th>highwaympg</th>\n",
       "    </tr>\n",
       "  </thead>\n",
       "  <tbody>\n",
       "    <tr>\n",
       "      <td>0</td>\n",
       "      <td>gas</td>\n",
       "      <td>std</td>\n",
       "      <td>four</td>\n",
       "      <td>sedan</td>\n",
       "      <td>rwd</td>\n",
       "      <td>front</td>\n",
       "      <td>ohc</td>\n",
       "      <td>four</td>\n",
       "      <td>mpfi</td>\n",
       "      <td>104.3</td>\n",
       "      <td>...</td>\n",
       "      <td>56.2</td>\n",
       "      <td>2410.0</td>\n",
       "      <td>141.0</td>\n",
       "      <td>3.31</td>\n",
       "      <td>3.15</td>\n",
       "      <td>9.5</td>\n",
       "      <td>114.0</td>\n",
       "      <td>5400.0</td>\n",
       "      <td>24.0</td>\n",
       "      <td>28.0</td>\n",
       "    </tr>\n",
       "    <tr>\n",
       "      <td>1</td>\n",
       "      <td>gas</td>\n",
       "      <td>std</td>\n",
       "      <td>four</td>\n",
       "      <td>wagon</td>\n",
       "      <td>fwd</td>\n",
       "      <td>front</td>\n",
       "      <td>ohc</td>\n",
       "      <td>four</td>\n",
       "      <td>2bbl</td>\n",
       "      <td>94.5</td>\n",
       "      <td>...</td>\n",
       "      <td>53.5</td>\n",
       "      <td>2024.0</td>\n",
       "      <td>97.0</td>\n",
       "      <td>3.15</td>\n",
       "      <td>3.29</td>\n",
       "      <td>9.4</td>\n",
       "      <td>69.0</td>\n",
       "      <td>5200.0</td>\n",
       "      <td>31.0</td>\n",
       "      <td>37.0</td>\n",
       "    </tr>\n",
       "  </tbody>\n",
       "</table>\n",
       "<p>2 rows × 22 columns</p>\n",
       "</div>"
      ],
      "text/plain": [
       "  fueltype aspiration doornumber carbody drivewheel enginelocation enginetype  \\\n",
       "0      gas        std       four   sedan        rwd          front        ohc   \n",
       "1      gas        std       four   wagon        fwd          front        ohc   \n",
       "\n",
       "  cylindernumber fuelsystem  wheelbase  ...  carheight  curbweight  \\\n",
       "0           four       mpfi      104.3  ...       56.2      2410.0   \n",
       "1           four       2bbl       94.5  ...       53.5      2024.0   \n",
       "\n",
       "   enginesize  boreratio  stroke  compressionratio  horsepower  peakrpm  \\\n",
       "0       141.0       3.31    3.15               9.5       114.0   5400.0   \n",
       "1        97.0       3.15    3.29               9.4        69.0   5200.0   \n",
       "\n",
       "   citympg  highwaympg  \n",
       "0     24.0        28.0  \n",
       "1     31.0        37.0  \n",
       "\n",
       "[2 rows x 22 columns]"
      ]
     },
     "execution_count": 8,
     "metadata": {},
     "output_type": "execute_result"
    }
   ],
   "source": [
    "train_x_b.head(2)"
   ]
  },
  {
   "cell_type": "markdown",
   "metadata": {},
   "source": [
    "### part c"
   ]
  },
  {
   "cell_type": "code",
   "execution_count": 9,
   "metadata": {},
   "outputs": [],
   "source": [
    "categorical_columns = []\n",
    "# Storing column names of categorical variable in a list (categorical_columns)\n",
    "for col in train_x_b.columns:\n",
    "        if (train_x_b[[\"{}\".format(col)]].dtypes == \"object\").bool() == True:\n",
    "            categorical_columns.append(col)\n"
   ]
  },
  {
   "cell_type": "code",
   "execution_count": 10,
   "metadata": {},
   "outputs": [
    {
     "name": "stdout",
     "output_type": "stream",
     "text": [
      "['fueltype', 'aspiration', 'doornumber', 'carbody', 'drivewheel', 'enginelocation', 'enginetype', 'cylindernumber', 'fuelsystem']\n"
     ]
    }
   ],
   "source": [
    "print(categorical_columns)"
   ]
  },
  {
   "cell_type": "markdown",
   "metadata": {},
   "source": [
    "### part d"
   ]
  },
  {
   "cell_type": "code",
   "execution_count": 11,
   "metadata": {},
   "outputs": [],
   "source": [
    "from sklearn.preprocessing import OneHotEncoder\n",
    "\n",
    "# Converting categorical variables to numeric using OneHotEncoder \n",
    "\n",
    "encoder = OneHotEncoder(sparse = False, dtype = int)    # setting sparse to False so the output will be dense array \n",
    "\n",
    "onehot_num = encoder.fit_transform(train_x_b[categorical_columns])  #fit and transform categorical columns in the data\n",
    "\n",
    "# Creating new list of column names to replace categorical variable names \n",
    "encoder_columns_list = []\n",
    "m = 0   \n",
    "for i in encoder.categories_:\n",
    "    suffix = categorical_columns[m]  # Adding categorical column names as suffix to encoder columns\n",
    "    m += 1\n",
    "    for j in i:\n",
    "        encoder_columns_list.append(j+'_{}'.format(suffix))\n",
    "\n",
    "#converting Numpyarray to pandas dataframe\n",
    "onehotencode_dataframe = pd.DataFrame(onehot_num, columns = encoder_columns_list) \n",
    "\n",
    "onehotencode_dataframe.head(4)\n",
    "\n",
    "\n",
    "train_x_d = pd.concat([train_x_b.drop(categorical_columns, axis = 1), onehotencode_dataframe], axis = 1) "
   ]
  },
  {
   "cell_type": "code",
   "execution_count": 12,
   "metadata": {},
   "outputs": [
    {
     "data": {
      "text/html": [
       "<div>\n",
       "<style scoped>\n",
       "    .dataframe tbody tr th:only-of-type {\n",
       "        vertical-align: middle;\n",
       "    }\n",
       "\n",
       "    .dataframe tbody tr th {\n",
       "        vertical-align: top;\n",
       "    }\n",
       "\n",
       "    .dataframe thead th {\n",
       "        text-align: right;\n",
       "    }\n",
       "</style>\n",
       "<table border=\"1\" class=\"dataframe\">\n",
       "  <thead>\n",
       "    <tr style=\"text-align: right;\">\n",
       "      <th></th>\n",
       "      <th>wheelbase</th>\n",
       "      <th>carlength</th>\n",
       "      <th>carwidth</th>\n",
       "      <th>carheight</th>\n",
       "      <th>curbweight</th>\n",
       "      <th>enginesize</th>\n",
       "      <th>boreratio</th>\n",
       "      <th>stroke</th>\n",
       "      <th>compressionratio</th>\n",
       "      <th>horsepower</th>\n",
       "      <th>...</th>\n",
       "      <th>three_cylindernumber</th>\n",
       "      <th>twelve_cylindernumber</th>\n",
       "      <th>two_cylindernumber</th>\n",
       "      <th>1bbl_fuelsystem</th>\n",
       "      <th>2bbl_fuelsystem</th>\n",
       "      <th>4bbl_fuelsystem</th>\n",
       "      <th>idi_fuelsystem</th>\n",
       "      <th>mfi_fuelsystem</th>\n",
       "      <th>mpfi_fuelsystem</th>\n",
       "      <th>spdi_fuelsystem</th>\n",
       "    </tr>\n",
       "  </thead>\n",
       "  <tbody>\n",
       "    <tr>\n",
       "      <td>0</td>\n",
       "      <td>104.3</td>\n",
       "      <td>188.8</td>\n",
       "      <td>67.2</td>\n",
       "      <td>56.2</td>\n",
       "      <td>2410.0</td>\n",
       "      <td>141.0</td>\n",
       "      <td>3.31</td>\n",
       "      <td>3.15</td>\n",
       "      <td>9.5</td>\n",
       "      <td>114.0</td>\n",
       "      <td>...</td>\n",
       "      <td>0</td>\n",
       "      <td>0</td>\n",
       "      <td>0</td>\n",
       "      <td>0</td>\n",
       "      <td>0</td>\n",
       "      <td>0</td>\n",
       "      <td>0</td>\n",
       "      <td>0</td>\n",
       "      <td>1</td>\n",
       "      <td>0</td>\n",
       "    </tr>\n",
       "    <tr>\n",
       "      <td>1</td>\n",
       "      <td>94.5</td>\n",
       "      <td>170.2</td>\n",
       "      <td>63.8</td>\n",
       "      <td>53.5</td>\n",
       "      <td>2024.0</td>\n",
       "      <td>97.0</td>\n",
       "      <td>3.15</td>\n",
       "      <td>3.29</td>\n",
       "      <td>9.4</td>\n",
       "      <td>69.0</td>\n",
       "      <td>...</td>\n",
       "      <td>0</td>\n",
       "      <td>0</td>\n",
       "      <td>0</td>\n",
       "      <td>0</td>\n",
       "      <td>1</td>\n",
       "      <td>0</td>\n",
       "      <td>0</td>\n",
       "      <td>0</td>\n",
       "      <td>0</td>\n",
       "      <td>0</td>\n",
       "    </tr>\n",
       "  </tbody>\n",
       "</table>\n",
       "<p>2 rows × 49 columns</p>\n",
       "</div>"
      ],
      "text/plain": [
       "   wheelbase  carlength  carwidth  carheight  curbweight  enginesize  \\\n",
       "0      104.3      188.8      67.2       56.2      2410.0       141.0   \n",
       "1       94.5      170.2      63.8       53.5      2024.0        97.0   \n",
       "\n",
       "   boreratio  stroke  compressionratio  horsepower  ...  three_cylindernumber  \\\n",
       "0       3.31    3.15               9.5       114.0  ...                     0   \n",
       "1       3.15    3.29               9.4        69.0  ...                     0   \n",
       "\n",
       "   twelve_cylindernumber  two_cylindernumber  1bbl_fuelsystem  \\\n",
       "0                      0                   0                0   \n",
       "1                      0                   0                0   \n",
       "\n",
       "   2bbl_fuelsystem  4bbl_fuelsystem  idi_fuelsystem  mfi_fuelsystem  \\\n",
       "0                0                0               0               0   \n",
       "1                1                0               0               0   \n",
       "\n",
       "   mpfi_fuelsystem  spdi_fuelsystem  \n",
       "0                1                0  \n",
       "1                0                0  \n",
       "\n",
       "[2 rows x 49 columns]"
      ]
     },
     "execution_count": 12,
     "metadata": {},
     "output_type": "execute_result"
    }
   ],
   "source": [
    "train_x_d.head(2)"
   ]
  },
  {
   "cell_type": "markdown",
   "metadata": {},
   "source": [
    "### part e"
   ]
  },
  {
   "cell_type": "code",
   "execution_count": 13,
   "metadata": {},
   "outputs": [],
   "source": [
    "from sklearn.preprocessing import StandardScaler\n",
    "\n",
    "#applying standardization on numeric variables:\n",
    "scaler = StandardScaler().fit(train_x_num)\n",
    "train_x_num_scaled = scaler.transform(train_x_num)\n",
    "\n",
    "\n",
    "# converting numpy array to data frame again:\n",
    "train_x_num_scaled = pd.DataFrame(train_x_num_scaled, columns = train_x_num.columns, index = train_x_num.index)\n",
    "\n",
    "# replacing numeric features with standarized featurs \n",
    "train_x_e = pd.concat([train_x_d.drop(train_x_num.columns, axis = 1), train_x_num_scaled], axis = 1)"
   ]
  },
  {
   "cell_type": "code",
   "execution_count": 14,
   "metadata": {},
   "outputs": [
    {
     "data": {
      "text/html": [
       "<div>\n",
       "<style scoped>\n",
       "    .dataframe tbody tr th:only-of-type {\n",
       "        vertical-align: middle;\n",
       "    }\n",
       "\n",
       "    .dataframe tbody tr th {\n",
       "        vertical-align: top;\n",
       "    }\n",
       "\n",
       "    .dataframe thead th {\n",
       "        text-align: right;\n",
       "    }\n",
       "</style>\n",
       "<table border=\"1\" class=\"dataframe\">\n",
       "  <thead>\n",
       "    <tr style=\"text-align: right;\">\n",
       "      <th></th>\n",
       "      <th>diesel_fueltype</th>\n",
       "      <th>gas_fueltype</th>\n",
       "      <th>std_aspiration</th>\n",
       "      <th>turbo_aspiration</th>\n",
       "      <th>four_doornumber</th>\n",
       "      <th>two_doornumber</th>\n",
       "      <th>convertible_carbody</th>\n",
       "      <th>hardtop_carbody</th>\n",
       "      <th>hatchback_carbody</th>\n",
       "      <th>sedan_carbody</th>\n",
       "      <th>...</th>\n",
       "      <th>carheight</th>\n",
       "      <th>curbweight</th>\n",
       "      <th>enginesize</th>\n",
       "      <th>boreratio</th>\n",
       "      <th>stroke</th>\n",
       "      <th>compressionratio</th>\n",
       "      <th>horsepower</th>\n",
       "      <th>peakrpm</th>\n",
       "      <th>citympg</th>\n",
       "      <th>highwaympg</th>\n",
       "    </tr>\n",
       "  </thead>\n",
       "  <tbody>\n",
       "    <tr>\n",
       "      <td>0</td>\n",
       "      <td>0</td>\n",
       "      <td>1</td>\n",
       "      <td>1</td>\n",
       "      <td>0</td>\n",
       "      <td>1</td>\n",
       "      <td>0</td>\n",
       "      <td>0</td>\n",
       "      <td>0</td>\n",
       "      <td>0</td>\n",
       "      <td>1</td>\n",
       "      <td>...</td>\n",
       "      <td>1.106358</td>\n",
       "      <td>-0.204044</td>\n",
       "      <td>0.427546</td>\n",
       "      <td>-0.000506</td>\n",
       "      <td>-0.298040</td>\n",
       "      <td>-0.115772</td>\n",
       "      <td>0.312992</td>\n",
       "      <td>0.600889</td>\n",
       "      <td>-0.213677</td>\n",
       "      <td>-0.427155</td>\n",
       "    </tr>\n",
       "    <tr>\n",
       "      <td>1</td>\n",
       "      <td>0</td>\n",
       "      <td>1</td>\n",
       "      <td>1</td>\n",
       "      <td>0</td>\n",
       "      <td>1</td>\n",
       "      <td>0</td>\n",
       "      <td>0</td>\n",
       "      <td>0</td>\n",
       "      <td>0</td>\n",
       "      <td>0</td>\n",
       "      <td>...</td>\n",
       "      <td>-0.087277</td>\n",
       "      <td>-0.969288</td>\n",
       "      <td>-0.679464</td>\n",
       "      <td>-0.628165</td>\n",
       "      <td>0.134277</td>\n",
       "      <td>-0.142667</td>\n",
       "      <td>-0.909358</td>\n",
       "      <td>0.150404</td>\n",
       "      <td>0.890321</td>\n",
       "      <td>0.949013</td>\n",
       "    </tr>\n",
       "  </tbody>\n",
       "</table>\n",
       "<p>2 rows × 49 columns</p>\n",
       "</div>"
      ],
      "text/plain": [
       "   diesel_fueltype  gas_fueltype  std_aspiration  turbo_aspiration  \\\n",
       "0                0             1               1                 0   \n",
       "1                0             1               1                 0   \n",
       "\n",
       "   four_doornumber  two_doornumber  convertible_carbody  hardtop_carbody  \\\n",
       "0                1               0                    0                0   \n",
       "1                1               0                    0                0   \n",
       "\n",
       "   hatchback_carbody  sedan_carbody  ...  carheight  curbweight  enginesize  \\\n",
       "0                  0              1  ...   1.106358   -0.204044    0.427546   \n",
       "1                  0              0  ...  -0.087277   -0.969288   -0.679464   \n",
       "\n",
       "   boreratio    stroke  compressionratio  horsepower   peakrpm   citympg  \\\n",
       "0  -0.000506 -0.298040         -0.115772    0.312992  0.600889 -0.213677   \n",
       "1  -0.628165  0.134277         -0.142667   -0.909358  0.150404  0.890321   \n",
       "\n",
       "   highwaympg  \n",
       "0   -0.427155  \n",
       "1    0.949013  \n",
       "\n",
       "[2 rows x 49 columns]"
      ]
     },
     "execution_count": 14,
     "metadata": {},
     "output_type": "execute_result"
    }
   ],
   "source": [
    "train_x_e.head(2)"
   ]
  },
  {
   "cell_type": "markdown",
   "metadata": {},
   "source": [
    "## Data Exploration"
   ]
  },
  {
   "cell_type": "markdown",
   "metadata": {},
   "source": [
    "### part f"
   ]
  },
  {
   "cell_type": "code",
   "execution_count": 15,
   "metadata": {
    "scrolled": true
   },
   "outputs": [
    {
     "data": {
      "text/plain": [
       "<Figure size 2000x1500 with 49 Axes>"
      ]
     },
     "metadata": {},
     "output_type": "display_data"
    }
   ],
   "source": [
    "import matplotlib.pyplot as plt\n",
    "\n",
    "#plotting histograms of variables\n",
    "train_x_e.hist(bins=50, figsize=(20,15))\n",
    "plt.show()\n",
    "\n",
    "# from histograms we can infer:\n",
    "# 1. for some numerical variables there are some extreme point such the ones in compressionratio attribute.\n",
    "# 2. some variables have right-skewed distribution like wheelbase variable\n",
    "# 3. all numeric variables have similar scales"
   ]
  },
  {
   "cell_type": "markdown",
   "metadata": {},
   "source": [
    "### part g"
   ]
  },
  {
   "cell_type": "code",
   "execution_count": 16,
   "metadata": {},
   "outputs": [],
   "source": [
    "# adding target column to train_x_num(numerical variabels)\n",
    "corr_data = pd.concat([train_x_num, train_y], axis = 1)\n",
    "\n",
    "# Calculating correlation between every pair of continuous variables\n",
    "corr = corr_data.corr()\n",
    "\n",
    "# strongest 5 correlating variables( first attribute does not count cause it's the attribute we compare with(price))\n",
    "corr[\"price\"].abs().nlargest(6)\n",
    "\n",
    "top_5_corr = [\"enginesize\", \"curbweight\", \"horsepower\",\"carwidth\", \"carlength\"]"
   ]
  },
  {
   "cell_type": "code",
   "execution_count": 17,
   "metadata": {},
   "outputs": [
    {
     "name": "stdout",
     "output_type": "stream",
     "text": [
      "['enginesize', 'curbweight', 'horsepower', 'carwidth', 'carlength']\n"
     ]
    }
   ],
   "source": [
    "print(top_5_corr)"
   ]
  },
  {
   "cell_type": "markdown",
   "metadata": {},
   "source": [
    "### part h"
   ]
  },
  {
   "cell_type": "code",
   "execution_count": 18,
   "metadata": {},
   "outputs": [
    {
     "data": {
      "image/png": "[encoded data removed]",
      "text/plain": [
       "<Figure size 864x576 with 25 Axes>"
      ]
     },
     "metadata": {
      "needs_background": "light"
     },
     "output_type": "display_data"
    }
   ],
   "source": [
    "from pandas.plotting import scatter_matrix\n",
    "scatter_matrix(train_x_e[top_5_corr], figsize=(12, 8))\n",
    "plt.show()"
   ]
  },
  {
   "cell_type": "markdown",
   "metadata": {},
   "source": [
    "## LINEAR REGRESSION TO PREDICT CAR PRICES"
   ]
  },
  {
   "cell_type": "markdown",
   "metadata": {},
   "source": [
    "### part i"
   ]
  },
  {
   "cell_type": "code",
   "execution_count": 19,
   "metadata": {},
   "outputs": [
    {
     "name": "stdout",
     "output_type": "stream",
     "text": [
      "4292176.310954014\n"
     ]
    }
   ],
   "source": [
    "from sklearn.linear_model import LinearRegression\n",
    "from sklearn.metrics import mean_squared_error\n",
    "\n",
    "# Creating the lr model\n",
    "lr_model = LinearRegression()\n",
    "\n",
    "#Training the model on train_x_e and train_y\n",
    "lr_model.fit(train_x_e, train_y)\n",
    "\n",
    "# Prediction of training set \n",
    "train_predictions = lr_model.predict(train_x_e)\n",
    "\n",
    "# Mean Square Error (MSE) for training data\n",
    "MSE_training = mean_squared_error(train_y,train_predictions)\n",
    "print(MSE_training)"
   ]
  },
  {
   "cell_type": "markdown",
   "metadata": {},
   "source": [
    "### part j"
   ]
  },
  {
   "cell_type": "code",
   "execution_count": 20,
   "metadata": {},
   "outputs": [
    {
     "name": "stdout",
     "output_type": "stream",
     "text": [
      "[10015494.68044826  6661165.84773802  8006907.89379288 11512783.35483871\n",
      "  7177366.78896618]\n"
     ]
    }
   ],
   "source": [
    "from sklearn.model_selection import cross_val_score\n",
    "\n",
    "train_mse_score = abs(cross_val_score(lr_model, train_x_e, train_y, scoring=\"neg_mean_squared_error\", cv=5))\n",
    "print(train_mse_score)"
   ]
  },
  {
   "cell_type": "code",
   "execution_count": 21,
   "metadata": {},
   "outputs": [
    {
     "name": "stdout",
     "output_type": "stream",
     "text": [
      "8674743.713156808\n"
     ]
    }
   ],
   "source": [
    "average_mse = train_mse_score.mean()\n",
    "print(average_mse)"
   ]
  },
  {
   "cell_type": "markdown",
   "metadata": {},
   "source": [
    "### part k"
   ]
  },
  {
   "cell_type": "code",
   "execution_count": 22,
   "metadata": {},
   "outputs": [],
   "source": [
    "# Testing data:\n",
    "testing = pd.read_csv(\"test.csv\")\n",
    "\n",
    "# All testing features except the label(price) \n",
    "test_x_a = testing.drop(\"price\", axis = 1)\n",
    "\n",
    "\n",
    "# extracting the label feature(price), [[]] is used to reserve the dataframe type instead of series by using just []\n",
    "test_y = testing[[\"price\"]]\n",
    "\n",
    "# column names that contain missing values\n",
    "nan_columns_test = find_non_columns(test_x_a)\n",
    "\n",
    "\n",
    "# only numeric features \n",
    "test_x_num = dropping_categorical(test_x_a)\n",
    "\n",
    "# Imputing missing values with the median found from training set & transforming the dataset back to Pd.dataframe\n",
    "test_x_num = pd.DataFrame(imputer.transform(test_x_num), columns = test_x_num.columns,\n",
    "                            index = test_x_num.index)\n",
    "\n",
    "# Replacing the features with missing values in test_x_a with the ones filled by median\n",
    "test_x_a = pd.concat([test_x_a.drop(columns = nan_columns_test) , test_x_num], axis = 1)\n",
    "\n",
    "#indexs of NAN rows in price column\n",
    "nan_label_index_test = list(test_y[test_y.isnull().any(axis = 1)].index)  \n",
    "\n",
    "# Removing price-NaN rows from test_x_a\n",
    "test_x_b = test_x_a.drop(nan_label_index_test, axis = 0).reset_index(drop = True) \n",
    "\n",
    "# Removing price-NaN rows from test_x_num:\n",
    "test_x_num = test_x_num.drop(nan_label_index_test, axis = 0).reset_index(drop = True) \n",
    "\n",
    "# Converting categorical variables to numeric using OneHotEncoder\n",
    "onehot_num_test = encoder.fit_transform(test_x_b[categorical_columns]) #same categorical columns in both train and test sets\n",
    "\n",
    "#converting Numpyarray to pandas dataframe\n",
    "onehotencode_dataframe_test = pd.DataFrame(onehot_num_test, columns = encoder_columns_list) \n",
    "\n",
    "test_x_d = pd.concat([test_x_b.drop(categorical_columns, axis = 1), onehotencode_dataframe_test], axis = 1)\n",
    "\n",
    "#applying standardization on numeric variables:\n",
    "test_x_num_scaled = scaler.transform(test_x_num)\n",
    "\n",
    "# converting numpy array to data frame again:\n",
    "test_x_num_scaled = pd.DataFrame(test_x_num_scaled, columns = test_x_num.columns, index = test_x_num.index)\n",
    "\n",
    "# replacing numeric features with standarized featurs \n",
    "test_x = pd.concat([test_x_d.drop(test_x_num.columns, axis = 1), test_x_num_scaled], axis = 1)\n",
    "\n",
    "# Removing price-NaN rows from the label column(price)\n",
    "test_y = test_y.drop(nan_label_index_test, axis = 0).reset_index(drop = True)\n",
    "\n"
   ]
  },
  {
   "cell_type": "code",
   "execution_count": 23,
   "metadata": {},
   "outputs": [
    {
     "data": {
      "text/html": [
       "<div>\n",
       "<style scoped>\n",
       "    .dataframe tbody tr th:only-of-type {\n",
       "        vertical-align: middle;\n",
       "    }\n",
       "\n",
       "    .dataframe tbody tr th {\n",
       "        vertical-align: top;\n",
       "    }\n",
       "\n",
       "    .dataframe thead th {\n",
       "        text-align: right;\n",
       "    }\n",
       "</style>\n",
       "<table border=\"1\" class=\"dataframe\">\n",
       "  <thead>\n",
       "    <tr style=\"text-align: right;\">\n",
       "      <th></th>\n",
       "      <th>diesel_fueltype</th>\n",
       "      <th>gas_fueltype</th>\n",
       "      <th>std_aspiration</th>\n",
       "      <th>turbo_aspiration</th>\n",
       "      <th>four_doornumber</th>\n",
       "      <th>two_doornumber</th>\n",
       "      <th>convertible_carbody</th>\n",
       "      <th>hardtop_carbody</th>\n",
       "      <th>hatchback_carbody</th>\n",
       "      <th>sedan_carbody</th>\n",
       "      <th>...</th>\n",
       "      <th>carheight</th>\n",
       "      <th>curbweight</th>\n",
       "      <th>enginesize</th>\n",
       "      <th>boreratio</th>\n",
       "      <th>stroke</th>\n",
       "      <th>compressionratio</th>\n",
       "      <th>horsepower</th>\n",
       "      <th>peakrpm</th>\n",
       "      <th>citympg</th>\n",
       "      <th>highwaympg</th>\n",
       "    </tr>\n",
       "  </thead>\n",
       "  <tbody>\n",
       "    <tr>\n",
       "      <td>0</td>\n",
       "      <td>0</td>\n",
       "      <td>1</td>\n",
       "      <td>1</td>\n",
       "      <td>0</td>\n",
       "      <td>1</td>\n",
       "      <td>0</td>\n",
       "      <td>0</td>\n",
       "      <td>0</td>\n",
       "      <td>0</td>\n",
       "      <td>0</td>\n",
       "      <td>...</td>\n",
       "      <td>0.885315</td>\n",
       "      <td>0.874435</td>\n",
       "      <td>0.301750</td>\n",
       "      <td>-0.471250</td>\n",
       "      <td>0.473955</td>\n",
       "      <td>-0.384726</td>\n",
       "      <td>0.204338</td>\n",
       "      <td>0.826131</td>\n",
       "      <td>-1.002247</td>\n",
       "      <td>-0.885877</td>\n",
       "    </tr>\n",
       "    <tr>\n",
       "      <td>1</td>\n",
       "      <td>0</td>\n",
       "      <td>1</td>\n",
       "      <td>1</td>\n",
       "      <td>0</td>\n",
       "      <td>1</td>\n",
       "      <td>0</td>\n",
       "      <td>0</td>\n",
       "      <td>0</td>\n",
       "      <td>0</td>\n",
       "      <td>1</td>\n",
       "      <td>...</td>\n",
       "      <td>0.177976</td>\n",
       "      <td>-0.279379</td>\n",
       "      <td>-0.352393</td>\n",
       "      <td>-0.628165</td>\n",
       "      <td>1.029791</td>\n",
       "      <td>-0.250249</td>\n",
       "      <td>-0.447582</td>\n",
       "      <td>0.150404</td>\n",
       "      <td>0.259465</td>\n",
       "      <td>0.337383</td>\n",
       "    </tr>\n",
       "  </tbody>\n",
       "</table>\n",
       "<p>2 rows × 49 columns</p>\n",
       "</div>"
      ],
      "text/plain": [
       "   diesel_fueltype  gas_fueltype  std_aspiration  turbo_aspiration  \\\n",
       "0                0             1               1                 0   \n",
       "1                0             1               1                 0   \n",
       "\n",
       "   four_doornumber  two_doornumber  convertible_carbody  hardtop_carbody  \\\n",
       "0                1               0                    0                0   \n",
       "1                1               0                    0                0   \n",
       "\n",
       "   hatchback_carbody  sedan_carbody  ...  carheight  curbweight  enginesize  \\\n",
       "0                  0              0  ...   0.885315    0.874435    0.301750   \n",
       "1                  0              1  ...   0.177976   -0.279379   -0.352393   \n",
       "\n",
       "   boreratio    stroke  compressionratio  horsepower   peakrpm   citympg  \\\n",
       "0  -0.471250  0.473955         -0.384726    0.204338  0.826131 -1.002247   \n",
       "1  -0.628165  1.029791         -0.250249   -0.447582  0.150404  0.259465   \n",
       "\n",
       "   highwaympg  \n",
       "0   -0.885877  \n",
       "1    0.337383  \n",
       "\n",
       "[2 rows x 49 columns]"
      ]
     },
     "execution_count": 23,
     "metadata": {},
     "output_type": "execute_result"
    }
   ],
   "source": [
    "test_x.head(2)"
   ]
  },
  {
   "cell_type": "code",
   "execution_count": 24,
   "metadata": {},
   "outputs": [
    {
     "data": {
      "text/html": [
       "<div>\n",
       "<style scoped>\n",
       "    .dataframe tbody tr th:only-of-type {\n",
       "        vertical-align: middle;\n",
       "    }\n",
       "\n",
       "    .dataframe tbody tr th {\n",
       "        vertical-align: top;\n",
       "    }\n",
       "\n",
       "    .dataframe thead th {\n",
       "        text-align: right;\n",
       "    }\n",
       "</style>\n",
       "<table border=\"1\" class=\"dataframe\">\n",
       "  <thead>\n",
       "    <tr style=\"text-align: right;\">\n",
       "      <th></th>\n",
       "      <th>price</th>\n",
       "    </tr>\n",
       "  </thead>\n",
       "  <tbody>\n",
       "    <tr>\n",
       "      <td>0</td>\n",
       "      <td>18920.0</td>\n",
       "    </tr>\n",
       "    <tr>\n",
       "      <td>1</td>\n",
       "      <td>10295.0</td>\n",
       "    </tr>\n",
       "  </tbody>\n",
       "</table>\n",
       "</div>"
      ],
      "text/plain": [
       "     price\n",
       "0  18920.0\n",
       "1  10295.0"
      ]
     },
     "execution_count": 24,
     "metadata": {},
     "output_type": "execute_result"
    }
   ],
   "source": [
    "test_y.head(2)"
   ]
  },
  {
   "cell_type": "markdown",
   "metadata": {},
   "source": [
    "### part l"
   ]
  },
  {
   "cell_type": "code",
   "execution_count": 25,
   "metadata": {},
   "outputs": [],
   "source": [
    "predicted_values = lr_model.predict(test_x)"
   ]
  },
  {
   "cell_type": "code",
   "execution_count": 26,
   "metadata": {},
   "outputs": [
    {
     "name": "stdout",
     "output_type": "stream",
     "text": [
      "[[25821.12836367]\n",
      " [15266.89217591]\n",
      " [ 7234.96462755]]\n"
     ]
    }
   ],
   "source": [
    "print(predicted_values[10:13])"
   ]
  },
  {
   "cell_type": "code",
   "execution_count": 27,
   "metadata": {},
   "outputs": [
    {
     "name": "stdout",
     "output_type": "stream",
     "text": [
      "14477088.744741675\n"
     ]
    },
    {
     "data": {
      "text/plain": [
       "array([[  302.41990174,  -302.41990174,  -832.61095673,   832.61095673,\n",
       "         -160.10846982,   160.10846982,  1540.90657217,   -99.71791731,\n",
       "        -1138.60529083,    18.08528851,  -320.66865254,  -359.14587585,\n",
       "           15.91566175,   343.23021411, -3345.9240823 ,  3345.9240823 ,\n",
       "         -375.72552583,   504.56476307,  4019.44433168,   993.24625085,\n",
       "        -6497.50000194,  1355.97018217,  9419.27739351, -2850.06108596,\n",
       "        -4741.77180311,  -265.98081824,  3196.52464961, -6113.95851799,\n",
       "         1355.97018217,   804.46589717,   119.64125564,  1355.97018217,\n",
       "          302.41990174, -1238.58078103,   617.09944787, -1961.01590354,\n",
       "         -184.24472871,    14.47626646,   482.17978871,   106.79417743,\n",
       "         1605.85000465,  4250.28132938,   -38.5144245 , -1320.99185664,\n",
       "          384.95149718,  1307.70626385,   516.79897248,  -655.36521143,\n",
       "          910.41774697]])"
      ]
     },
     "execution_count": 27,
     "metadata": {},
     "output_type": "execute_result"
    }
   ],
   "source": [
    "test_mse_score = mean_squared_error(test_y,predicted_values)\n",
    "print(test_mse_score)\n",
    "\n",
    "# Printing the model's coefficients\n",
    "lr_model.coef_"
   ]
  },
  {
   "cell_type": "markdown",
   "metadata": {},
   "source": [
    "### part m"
   ]
  },
  {
   "cell_type": "code",
   "execution_count": 50,
   "metadata": {},
   "outputs": [],
   "source": [
    "from sklearn.preprocessing import PolynomialFeatures\n",
    "\n",
    "# Creating a 2-degree polynomial feature transformer\n",
    "poly_dim = PolynomialFeatures(degree=2, include_bias=False)\n",
    "\n",
    "train_x_m = pd.DataFrame(poly_dim.fit_transform(train_x_e))"
   ]
  },
  {
   "cell_type": "code",
   "execution_count": 51,
   "metadata": {},
   "outputs": [
    {
     "data": {
      "text/html": [
       "<div>\n",
       "<style scoped>\n",
       "    .dataframe tbody tr th:only-of-type {\n",
       "        vertical-align: middle;\n",
       "    }\n",
       "\n",
       "    .dataframe tbody tr th {\n",
       "        vertical-align: top;\n",
       "    }\n",
       "\n",
       "    .dataframe thead th {\n",
       "        text-align: right;\n",
       "    }\n",
       "</style>\n",
       "<table border=\"1\" class=\"dataframe\">\n",
       "  <thead>\n",
       "    <tr style=\"text-align: right;\">\n",
       "      <th></th>\n",
       "      <th>0</th>\n",
       "      <th>1</th>\n",
       "      <th>2</th>\n",
       "      <th>3</th>\n",
       "      <th>4</th>\n",
       "      <th>5</th>\n",
       "      <th>6</th>\n",
       "      <th>7</th>\n",
       "      <th>8</th>\n",
       "      <th>9</th>\n",
       "      <th>...</th>\n",
       "      <th>1264</th>\n",
       "      <th>1265</th>\n",
       "      <th>1266</th>\n",
       "      <th>1267</th>\n",
       "      <th>1268</th>\n",
       "      <th>1269</th>\n",
       "      <th>1270</th>\n",
       "      <th>1271</th>\n",
       "      <th>1272</th>\n",
       "      <th>1273</th>\n",
       "    </tr>\n",
       "  </thead>\n",
       "  <tbody>\n",
       "    <tr>\n",
       "      <td>0</td>\n",
       "      <td>0.0</td>\n",
       "      <td>1.0</td>\n",
       "      <td>1.0</td>\n",
       "      <td>0.0</td>\n",
       "      <td>1.0</td>\n",
       "      <td>0.0</td>\n",
       "      <td>0.0</td>\n",
       "      <td>0.0</td>\n",
       "      <td>0.0</td>\n",
       "      <td>1.0</td>\n",
       "      <td>...</td>\n",
       "      <td>0.097964</td>\n",
       "      <td>0.188073</td>\n",
       "      <td>-0.066879</td>\n",
       "      <td>-0.133696</td>\n",
       "      <td>0.361067</td>\n",
       "      <td>-0.128396</td>\n",
       "      <td>-0.256673</td>\n",
       "      <td>0.045658</td>\n",
       "      <td>0.091273</td>\n",
       "      <td>0.182461</td>\n",
       "    </tr>\n",
       "    <tr>\n",
       "      <td>1</td>\n",
       "      <td>0.0</td>\n",
       "      <td>1.0</td>\n",
       "      <td>1.0</td>\n",
       "      <td>0.0</td>\n",
       "      <td>1.0</td>\n",
       "      <td>0.0</td>\n",
       "      <td>0.0</td>\n",
       "      <td>0.0</td>\n",
       "      <td>0.0</td>\n",
       "      <td>0.0</td>\n",
       "      <td>...</td>\n",
       "      <td>0.826933</td>\n",
       "      <td>-0.136771</td>\n",
       "      <td>-0.809621</td>\n",
       "      <td>-0.862993</td>\n",
       "      <td>0.022621</td>\n",
       "      <td>0.133908</td>\n",
       "      <td>0.142735</td>\n",
       "      <td>0.792671</td>\n",
       "      <td>0.844926</td>\n",
       "      <td>0.900626</td>\n",
       "    </tr>\n",
       "  </tbody>\n",
       "</table>\n",
       "<p>2 rows × 1274 columns</p>\n",
       "</div>"
      ],
      "text/plain": [
       "   0     1     2     3     4     5     6     7     8     9     ...      1264  \\\n",
       "0   0.0   1.0   1.0   0.0   1.0   0.0   0.0   0.0   0.0   1.0  ...  0.097964   \n",
       "1   0.0   1.0   1.0   0.0   1.0   0.0   0.0   0.0   0.0   0.0  ...  0.826933   \n",
       "\n",
       "       1265      1266      1267      1268      1269      1270      1271  \\\n",
       "0  0.188073 -0.066879 -0.133696  0.361067 -0.128396 -0.256673  0.045658   \n",
       "1 -0.136771 -0.809621 -0.862993  0.022621  0.133908  0.142735  0.792671   \n",
       "\n",
       "       1272      1273  \n",
       "0  0.091273  0.182461  \n",
       "1  0.844926  0.900626  \n",
       "\n",
       "[2 rows x 1274 columns]"
      ]
     },
     "execution_count": 51,
     "metadata": {},
     "output_type": "execute_result"
    }
   ],
   "source": [
    "train_x_m.head(2)"
   ]
  },
  {
   "cell_type": "code",
   "execution_count": 52,
   "metadata": {},
   "outputs": [
    {
     "name": "stdout",
     "output_type": "stream",
     "text": [
      "[5.10705053e+07 2.63018054e+27 8.76452426e+26 1.23599377e+29\n",
      " 1.03247688e+30]\n"
     ]
    }
   ],
   "source": [
    "lr_model_poly = LinearRegression()\n",
    "poly_mse_score = abs(cross_val_score(lr_model_poly, train_x_m, train_y, scoring=\"neg_mean_squared_error\", cv=5))\n",
    "print(poly_mse_score)"
   ]
  },
  {
   "cell_type": "code",
   "execution_count": 53,
   "metadata": {},
   "outputs": [
    {
     "name": "stdout",
     "output_type": "stream",
     "text": [
      "2.319165783027691e+29\n"
     ]
    }
   ],
   "source": [
    "average_mse = poly_mse_score.mean()\n",
    "print(average_mse)"
   ]
  },
  {
   "cell_type": "markdown",
   "metadata": {},
   "source": [
    "### part n"
   ]
  },
  {
   "cell_type": "code",
   "execution_count": 56,
   "metadata": {},
   "outputs": [
    {
     "name": "stderr",
     "output_type": "stream",
     "text": [
      "C:\\Users\\HPi7\\Anaconda3\\lib\\site-packages\\sklearn\\linear_model\\coordinate_descent.py:475: ConvergenceWarning: Objective did not converge. You might want to increase the number of iterations. Duality gap: 9399468.709329294, tolerance: 682422.0779853245\n",
      "  positive)\n",
      "C:\\Users\\HPi7\\Anaconda3\\lib\\site-packages\\sklearn\\linear_model\\coordinate_descent.py:475: ConvergenceWarning: Objective did not converge. You might want to increase the number of iterations. Duality gap: 12600574.702536635, tolerance: 754070.2752435484\n",
      "  positive)\n",
      "C:\\Users\\HPi7\\Anaconda3\\lib\\site-packages\\sklearn\\linear_model\\coordinate_descent.py:475: ConvergenceWarning: Objective did not converge. You might want to increase the number of iterations. Duality gap: 12041876.42791847, tolerance: 814699.377570502\n",
      "  positive)\n",
      "C:\\Users\\HPi7\\Anaconda3\\lib\\site-packages\\sklearn\\linear_model\\coordinate_descent.py:475: ConvergenceWarning: Objective did not converge. You might want to increase the number of iterations. Duality gap: 13950885.831767032, tolerance: 671553.406812102\n",
      "  positive)\n",
      "C:\\Users\\HPi7\\Anaconda3\\lib\\site-packages\\sklearn\\linear_model\\coordinate_descent.py:475: ConvergenceWarning: Objective did not converge. You might want to increase the number of iterations. Duality gap: 10770056.61307232, tolerance: 757265.7578705018\n",
      "  positive)\n"
     ]
    },
    {
     "data": {
      "text/plain": [
       "array([14249972.41558128, 21329052.45772722, 18277668.9215969 ,\n",
       "       16597149.07007715, 89487164.08521013])"
      ]
     },
     "execution_count": 56,
     "metadata": {},
     "output_type": "execute_result"
    }
   ],
   "source": [
    "from sklearn.linear_model import Lasso\n",
    "\n",
    "# Creating a lasso model with default alpha = 1\n",
    "lasso = Lasso()\n",
    "\n",
    "# Performing 5-fold cross validation using lasso regression\n",
    "lasso_mse_score = abs(cross_val_score(lasso, train_x_m, train_y, scoring=\"neg_mean_squared_error\", cv=5))"
   ]
  },
  {
   "cell_type": "code",
   "execution_count": 57,
   "metadata": {},
   "outputs": [
    {
     "name": "stdout",
     "output_type": "stream",
     "text": [
      "31988201.39003854\n"
     ]
    }
   ],
   "source": [
    "average_mse = lasso_mse_score.mean()\n",
    "print(average_mse)"
   ]
  },
  {
   "cell_type": "markdown",
   "metadata": {},
   "source": [
    "### part o"
   ]
  },
  {
   "cell_type": "code",
   "execution_count": 114,
   "metadata": {},
   "outputs": [
    {
     "name": "stderr",
     "output_type": "stream",
     "text": [
      "C:\\Users\\HPi7\\Anaconda3\\lib\\site-packages\\sklearn\\model_selection\\_validation.py:516: UserWarning: With alpha=0, this algorithm does not converge well. You are advised to use the LinearRegression estimator\n",
      "  estimator.fit(X_train, y_train, **fit_params)\n",
      "C:\\Users\\HPi7\\Anaconda3\\lib\\site-packages\\sklearn\\linear_model\\coordinate_descent.py:475: UserWarning: Coordinate descent with no regularization may lead to unexpected results and is discouraged.\n",
      "  positive)\n",
      "C:\\Users\\HPi7\\Anaconda3\\lib\\site-packages\\sklearn\\model_selection\\_validation.py:516: UserWarning: With alpha=0, this algorithm does not converge well. You are advised to use the LinearRegression estimator\n",
      "  estimator.fit(X_train, y_train, **fit_params)\n",
      "C:\\Users\\HPi7\\Anaconda3\\lib\\site-packages\\sklearn\\linear_model\\coordinate_descent.py:475: UserWarning: Coordinate descent with no regularization may lead to unexpected results and is discouraged.\n",
      "  positive)\n",
      "C:\\Users\\HPi7\\Anaconda3\\lib\\site-packages\\sklearn\\model_selection\\_validation.py:516: UserWarning: With alpha=0, this algorithm does not converge well. You are advised to use the LinearRegression estimator\n",
      "  estimator.fit(X_train, y_train, **fit_params)\n",
      "C:\\Users\\HPi7\\Anaconda3\\lib\\site-packages\\sklearn\\linear_model\\coordinate_descent.py:475: UserWarning: Coordinate descent with no regularization may lead to unexpected results and is discouraged.\n",
      "  positive)\n",
      "C:\\Users\\HPi7\\Anaconda3\\lib\\site-packages\\sklearn\\linear_model\\coordinate_descent.py:475: ConvergenceWarning: Objective did not converge. You might want to increase the number of iterations. Duality gap: 891711.7831239201, tolerance: 814699.377570502\n",
      "  positive)\n",
      "C:\\Users\\HPi7\\Anaconda3\\lib\\site-packages\\sklearn\\model_selection\\_validation.py:516: UserWarning: With alpha=0, this algorithm does not converge well. You are advised to use the LinearRegression estimator\n",
      "  estimator.fit(X_train, y_train, **fit_params)\n",
      "C:\\Users\\HPi7\\Anaconda3\\lib\\site-packages\\sklearn\\linear_model\\coordinate_descent.py:475: UserWarning: Coordinate descent with no regularization may lead to unexpected results and is discouraged.\n",
      "  positive)\n",
      "C:\\Users\\HPi7\\Anaconda3\\lib\\site-packages\\sklearn\\model_selection\\_validation.py:516: UserWarning: With alpha=0, this algorithm does not converge well. You are advised to use the LinearRegression estimator\n",
      "  estimator.fit(X_train, y_train, **fit_params)\n",
      "C:\\Users\\HPi7\\Anaconda3\\lib\\site-packages\\sklearn\\linear_model\\coordinate_descent.py:475: UserWarning: Coordinate descent with no regularization may lead to unexpected results and is discouraged.\n",
      "  positive)\n",
      "C:\\Users\\HPi7\\Anaconda3\\lib\\site-packages\\sklearn\\linear_model\\coordinate_descent.py:475: ConvergenceWarning: Objective did not converge. You might want to increase the number of iterations. Duality gap: 6615703.389314134, tolerance: 682422.0779853245\n",
      "  positive)\n",
      "C:\\Users\\HPi7\\Anaconda3\\lib\\site-packages\\sklearn\\linear_model\\coordinate_descent.py:475: ConvergenceWarning: Objective did not converge. You might want to increase the number of iterations. Duality gap: 4335055.383253902, tolerance: 754070.2752435484\n",
      "  positive)\n",
      "C:\\Users\\HPi7\\Anaconda3\\lib\\site-packages\\sklearn\\linear_model\\coordinate_descent.py:475: ConvergenceWarning: Objective did not converge. You might want to increase the number of iterations. Duality gap: 20578440.12512277, tolerance: 814699.377570502\n",
      "  positive)\n",
      "C:\\Users\\HPi7\\Anaconda3\\lib\\site-packages\\sklearn\\linear_model\\coordinate_descent.py:475: ConvergenceWarning: Objective did not converge. You might want to increase the number of iterations. Duality gap: 6889295.065067917, tolerance: 671553.406812102\n",
      "  positive)\n",
      "C:\\Users\\HPi7\\Anaconda3\\lib\\site-packages\\sklearn\\linear_model\\coordinate_descent.py:475: ConvergenceWarning: Objective did not converge. You might want to increase the number of iterations. Duality gap: 11660995.682933666, tolerance: 757265.7578705018\n",
      "  positive)\n",
      "C:\\Users\\HPi7\\Anaconda3\\lib\\site-packages\\sklearn\\linear_model\\coordinate_descent.py:475: ConvergenceWarning: Objective did not converge. You might want to increase the number of iterations. Duality gap: 1722783.1712387055, tolerance: 682422.0779853245\n",
      "  positive)\n",
      "C:\\Users\\HPi7\\Anaconda3\\lib\\site-packages\\sklearn\\linear_model\\coordinate_descent.py:475: ConvergenceWarning: Objective did not converge. You might want to increase the number of iterations. Duality gap: 860850.4321159124, tolerance: 754070.2752435484\n",
      "  positive)\n",
      "C:\\Users\\HPi7\\Anaconda3\\lib\\site-packages\\sklearn\\linear_model\\coordinate_descent.py:475: ConvergenceWarning: Objective did not converge. You might want to increase the number of iterations. Duality gap: 1916157.7072442025, tolerance: 814699.377570502\n",
      "  positive)\n",
      "C:\\Users\\HPi7\\Anaconda3\\lib\\site-packages\\sklearn\\linear_model\\coordinate_descent.py:475: ConvergenceWarning: Objective did not converge. You might want to increase the number of iterations. Duality gap: 2610536.5505952016, tolerance: 757265.7578705018\n",
      "  positive)\n",
      "C:\\Users\\HPi7\\Anaconda3\\lib\\site-packages\\sklearn\\linear_model\\coordinate_descent.py:475: ConvergenceWarning: Objective did not converge. You might want to increase the number of iterations. Duality gap: 6715279.716169342, tolerance: 754070.2752435484\n",
      "  positive)\n",
      "C:\\Users\\HPi7\\Anaconda3\\lib\\site-packages\\sklearn\\linear_model\\coordinate_descent.py:475: ConvergenceWarning: Objective did not converge. You might want to increase the number of iterations. Duality gap: 1183566.4333547354, tolerance: 754070.2752435484\n",
      "  positive)\n"
     ]
    }
   ],
   "source": [
    "# define a function of Gradient Descent for lasso regression\n",
    "def gradient(train_data, labels):\n",
    "    avg_MSE = []\n",
    "    alphas = []\n",
    "    # defining iteration and step size\n",
    "    for alpha in range(0, 3001, 10):\n",
    "        # lasso model with different alpha values\n",
    "        lasso_model = Lasso(alpha = alpha)\n",
    "        # 5-fold cross validation\n",
    "        error = abs(cross_val_score(lasso_model, train_data, labels, scoring=\"neg_mean_squared_error\", cv=5))\n",
    "        # avg of 5-fold error\n",
    "        avg_error = error.mean()\n",
    "        #saving results\n",
    "        avg_MSE.append(avg_error)\n",
    "        alphas.append(alpha)\n",
    "    # Creating datafram\n",
    "    scores = pd.DataFrame({\"avg_MSE\" : avg_MSE,\n",
    "                          \"alphas\" : alphas})\n",
    "    return scores\n",
    "        \n",
    "\n",
    "all_scores = gradient(train_x_m, train_y)\n",
    "min_error = all_scores.nsmallest(1, \"avg_MSE\").values[0][0]\n",
    "min_alpha = all_scores.nsmallest(1, \"avg_MSE\").values[0][1]\n",
    "\n"
   ]
  },
  {
   "cell_type": "code",
   "execution_count": 115,
   "metadata": {
    "ExecuteTime": {
     "end_time": "2019-11-03T19:40:23.083729Z",
     "start_time": "2019-11-03T19:40:23.046853Z"
    }
   },
   "outputs": [
    {
     "name": "stdout",
     "output_type": "stream",
     "text": [
      "Minimum error was 20518865.28 at alpha 540.0\n"
     ]
    },
    {
     "data": {
      "text/plain": [
       "[<matplotlib.lines.Line2D at 0x23c1ce31f88>]"
      ]
     },
     "execution_count": 115,
     "metadata": {},
     "output_type": "execute_result"
    },
    {
     "data": {
      "image/png": "[encoded data removed]",
      "text/plain": [
       "<Figure size 432x288 with 1 Axes>"
      ]
     },
     "metadata": {
      "needs_background": "light"
     },
     "output_type": "display_data"
    }
   ],
   "source": [
    "print(f\"Minimum error was {round(min_error, 2)} at alpha {min_alpha}\")\n",
    "\n",
    "plt.plot(all_scores[\"alphas\"],all_scores[\"avg_MSE\"])"
   ]
  },
  {
   "cell_type": "markdown",
   "metadata": {},
   "source": [
    "### part p"
   ]
  },
  {
   "cell_type": "code",
   "execution_count": 117,
   "metadata": {},
   "outputs": [
    {
     "name": "stdout",
     "output_type": "stream",
     "text": [
      "Fitting 5 folds for each of 56 candidates, totalling 280 fits\n"
     ]
    },
    {
     "name": "stderr",
     "output_type": "stream",
     "text": [
      "[Parallel(n_jobs=4)]: Using backend LokyBackend with 4 concurrent workers.\n",
      "[Parallel(n_jobs=4)]: Done 280 out of 280 | elapsed:    1.8s finished\n",
      "C:\\Users\\HPi7\\Anaconda3\\lib\\site-packages\\sklearn\\utils\\validation.py:724: DataConversionWarning: A column-vector y was passed when a 1d array was expected. Please change the shape of y to (n_samples, ), for example using ravel().\n",
      "  y = column_or_1d(y, warn=True)\n"
     ]
    }
   ],
   "source": [
    "from sklearn.model_selection import GridSearchCV\n",
    "from sklearn.svm import SVR\n",
    "import numpy as np\n",
    "\n",
    "par_grid = [\n",
    "        {'kernel': ['linear'], 'C': [10.0, 30.0, 100.0, 300.0, 1000.0, 3000.0, 10000.0, 30000.0]},\n",
    "        {'kernel': ['rbf'], 'C': [1.0, 3.0, 10.0, 30.0, 100.0, 300.0, 1000.0, 3000.0],\n",
    "         'gamma': [0.01, 0.03, 0.1, 0.3, 1.0, 3.0]}]\n",
    "\n",
    "#building SVR model\n",
    "svm_model = SVR()\n",
    "\n",
    "#grid search\n",
    "grid_search = GridSearchCV(svm_model, par_grid, cv=5, scoring ='neg_mean_squared_error', verbose=2, n_jobs=4)\n",
    "\n",
    "#fit the model\n",
    "grid_search.fit(train_x_e, train_y)\n",
    "\n",
    "\n",
    "mse = grid_search.best_score_\n",
    "\n",
    "# we mutliply by (-) to get positive mse\n",
    "best_mse = np.mean(-mse)\n",
    "\n",
    "best_parameters = grid_search.best_params_\n"
   ]
  }
 ],
 "metadata": {
  "celltoolbar": "Raw Cell Format",
  "kernelspec": {
   "display_name": "Python 3",
   "language": "python",
   "name": "python3"
  },
  "language_info": {
   "codemirror_mode": {
    "name": "ipython",
    "version": 3
   },
   "file_extension": ".py",
   "mimetype": "text/x-python",
   "name": "python",
   "nbconvert_exporter": "python",
   "pygments_lexer": "ipython3",
   "version": "3.7.4"
  },
  "toc": {
   "base_numbering": 1,
   "nav_menu": {},
   "number_sections": true,
   "sideBar": true,
   "skip_h1_title": false,
   "title_cell": "Table of Contents",
   "title_sidebar": "Contents",
   "toc_cell": false,
   "toc_position": {},
   "toc_section_display": true,
   "toc_window_display": false
  }
 },
 "nbformat": 4,
 "nbformat_minor": 2
}
