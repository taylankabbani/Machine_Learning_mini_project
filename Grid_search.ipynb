{
 "cells": [
  {
   "cell_type": "code",
   "execution_count": 1,
   "metadata": {
    "ExecuteTime": {
     "end_time": "2019-11-22T21:10:19.201922Z",
     "start_time": "2019-11-22T21:10:17.698759Z"
    }
   },
   "outputs": [],
   "source": [
    "import random\n",
    "import pandas as pd\n",
    "import numpy as np\n",
    "import matplotlib.pyplot as plt\n",
    "from sklearn.base import BaseEstimator, TransformerMixin\n",
    "from sklearn.impute import SimpleImputer \n",
    "from sklearn.pipeline import Pipeline\n",
    "from sklearn.preprocessing import OneHotEncoder, StandardScaler\n",
    "from sklearn.compose import ColumnTransformer\n",
    "from sklearn.linear_model import LinearRegression\n",
    "from sklearn.metrics import mean_squared_error\n",
    "from sklearn.model_selection import train_test_split, GridSearchCV\n",
    "from sklearn import neighbors, tree, ensemble\n"
   ]
  },
  {
   "cell_type": "code",
   "execution_count": 2,
   "metadata": {},
   "outputs": [],
   "source": [
    "#To hide FutureWarning & DataConversionWarning from the output\n",
    "import warnings\n",
    "from sklearn.exceptions import *\n",
    "warnings.filterwarnings(\"ignore\", category=FutureWarning)\n",
    "warnings.filterwarnings(action='ignore', category=DataConversionWarning)"
   ]
  },
  {
   "cell_type": "markdown",
   "metadata": {},
   "source": [
    "## Data Preparation "
   ]
  },
  {
   "cell_type": "code",
   "execution_count": 3,
   "metadata": {},
   "outputs": [],
   "source": [
    "# Training data:\n",
    "train_x = pd.read_csv(\"training.csv\").drop(\"price\", axis = 1)\n",
    "train_y = pd.read_csv(\"training.csv\")[[\"price\"]]\n",
    "\n",
    "# Testing data:\n",
    "test_x = pd.read_csv(\"test.csv\").drop(\"price\", axis = 1)\n",
    "test_y = pd.read_csv(\"test.csv\")[[\"price\"]]"
   ]
  },
  {
   "cell_type": "code",
   "execution_count": 4,
   "metadata": {},
   "outputs": [],
   "source": [
    "# Finding numeric features \n",
    "def num_columns(dataframe):\n",
    "    l = []\n",
    "    for i in dataframe.columns:\n",
    "        if dataframe[i].isnull().sum() != 0:\n",
    "            l.append(i)\n",
    "    return l\n",
    "\n",
    "# Finding categorical features :\n",
    "def cat_columns(dataframe):\n",
    "    categorical_columns = []\n",
    "    for col in dataframe.columns:\n",
    "        if (dataframe[[\"{}\".format(col)]].dtypes == \"object\").bool() == True:\n",
    "            categorical_columns.append(col)\n",
    "    return categorical_columns\n",
    "\n",
    "# Delete missing instances from label column\n",
    "def label_na(dataframe):\n",
    "    global nan_label_index\n",
    "    nan_label_index = list(dataframe[dataframe.isnull().any(axis = 1)].index)\n",
    "    dataframe = dataframe.drop(nan_label_index, axis = 0).reset_index(drop = True)\n",
    "    return dataframe\n",
    "\n",
    "#Delete label's missing instances from the dataset\n",
    "class deletelabelna(BaseEstimator, TransformerMixin):\n",
    "    def __init__(self, nan_label_index):\n",
    "        self.nan_label_index = nan_label_index\n",
    "    def fit(self, X, y=None):\n",
    "        return self\n",
    "    def transform(self, X):\n",
    "        X = pd.DataFrame(X).drop(self.nan_label_index, axis = 0).reset_index(drop = True)\n",
    "        return X\n",
    "        \n",
    "    \n",
    "# Imputer and scaler pipline for numerical features\n",
    "num_transformer = Pipeline(steps = [(\"imputer\", SimpleImputer(strategy='median')),\n",
    "                                    (\"scaler\", StandardScaler())])\n",
    "\n",
    "# One-hot encoder for categorical features\n",
    "cat_transformer = Pipeline(steps = [(\"encoder\", OneHotEncoder(sparse = False, dtype = int))])\n",
    "\n",
    "# lists of column names of numeric and categorical features\n",
    "num_features = num_columns(train_x)\n",
    "cat_features = cat_columns(train_x)\n",
    "\n",
    "# Integrating num and cat transformer\n",
    "processor = ColumnTransformer(transformers= [('num', num_transformer, num_features),\n",
    "                                            ('cat', cat_transformer, cat_features)])\n"
   ]
  },
  {
   "cell_type": "code",
   "execution_count": 5,
   "metadata": {},
   "outputs": [],
   "source": [
    "# imputing label features\n",
    "train_y = label_na(train_y)\n",
    "nan_label_index_train =  nan_label_index  #storing indices to use them in pipeline\n",
    "\n",
    "test_y = label_na(test_y)\n",
    "nan_label_index_test =  nan_label_index\n",
    "\n",
    "#Pipelines of data processing\n",
    "train_pipe = Pipeline(steps = [('processor', processor),\n",
    "                             ('deletelablena', deletelabelna(nan_label_index_train))])\n",
    "test_pipe =  Pipeline(steps = [('processor', processor),\n",
    "                                 ('deletelablena', deletelabelna(nan_label_index_test))])\n",
    "\n",
    "\n",
    "# Running data preprocessing pipeline\n",
    "train_x_e = train_pipe.fit_transform(train_x)\n",
    "test_x = test_pipe.transform(test_x)"
   ]
  },
  {
   "cell_type": "markdown",
   "metadata": {},
   "source": [
    "## KNN REGGRESSOR TO PREDICT CAR PRICES "
   ]
  },
  {
   "cell_type": "markdown",
   "metadata": {},
   "source": [
    "### a) Training Vs Validation Plot:"
   ]
  },
  {
   "cell_type": "code",
   "execution_count": 6,
   "metadata": {},
   "outputs": [],
   "source": [
    "#Splitting train_x_e into train and validation sets\n",
    "train_split_x, val_split_x, train_split_y, val_split_y = train_test_split(train_x_e, train_y, test_size=0.2, random_state=0)"
   ]
  },
  {
   "cell_type": "code",
   "execution_count": 7,
   "metadata": {},
   "outputs": [],
   "source": [
    "knn_training_errors, knn_validation_error = [], []\n",
    "\n",
    "\n",
    "for k in range(1, 31):\n",
    "    knn_reg = neighbors.KNeighborsRegressor(n_neighbors= k) #Build model with different k values\n",
    "    knn_reg.fit(train_split_x, train_split_y)               # train the model\n",
    "    train_pred = knn_reg.predict(train_split_x)             #predict on training data\n",
    "    val_pred = knn_reg.predict(val_split_x)                    #predict on validation data\n",
    "    knn_training_errors.append(mean_squared_error(train_split_y, train_pred))  #Record MSE of training\n",
    "    knn_validation_error.append(mean_squared_error(val_split_y, val_pred))     #Record MSE of validation\n",
    "    k += 1"
   ]
  },
  {
   "cell_type": "code",
   "execution_count": 8,
   "metadata": {},
   "outputs": [
    {
     "data": {
      "text/plain": [
       "Text(0, 0.5, 'MSE')"
      ]
     },
     "execution_count": 8,
     "metadata": {},
     "output_type": "execute_result"
    },
    {
     "data": {
      "image/png": "[encoded data removed]",
      "text/plain": [
       "<Figure size 432x288 with 1 Axes>"
      ]
     },
     "metadata": {
      "needs_background": "light"
     },
     "output_type": "display_data"
    }
   ],
   "source": [
    "# training vs validation plot\n",
    "plt.plot(knn_training_errors, \"r-+\", linewidth=2, label=\"train\")\n",
    "plt.plot(knn_validation_error, \"b-\", linewidth=3, label=\"val\")\n",
    "plt.legend(loc=\"upper right\", fontsize=14)\n",
    "plt.xlabel(\"K_value\", fontsize=14) \n",
    "plt.ylabel(\"MSE\", fontsize=14)"
   ]
  },
  {
   "cell_type": "markdown",
   "metadata": {},
   "source": [
    "### b) Test your model:"
   ]
  },
  {
   "cell_type": "code",
   "execution_count": 9,
   "metadata": {
    "ExecuteTime": {
     "end_time": "2019-12-13T17:59:49.282500Z",
     "start_time": "2019-12-13T17:59:49.277513Z"
    }
   },
   "outputs": [
    {
     "data": {
      "text/plain": [
       "KNeighborsRegressor(algorithm='auto', leaf_size=30, metric='minkowski',\n",
       "                    metric_params=None, n_jobs=None, n_neighbors=3, p=2,\n",
       "                    weights='uniform')"
      ]
     },
     "execution_count": 9,
     "metadata": {},
     "output_type": "execute_result"
    }
   ],
   "source": [
    "# KNN model with best k value based on the above graph (k = 3)\n",
    "best_knn = neighbors.KNeighborsRegressor(n_neighbors= 3)\n",
    "best_knn.fit(train_x_e, train_y)"
   ]
  },
  {
   "cell_type": "code",
   "execution_count": 10,
   "metadata": {},
   "outputs": [],
   "source": [
    "knn_preds = best_knn.predict(test_x)"
   ]
  },
  {
   "cell_type": "code",
   "execution_count": 11,
   "metadata": {},
   "outputs": [
    {
     "name": "stdout",
     "output_type": "stream",
     "text": [
      "9984318.6625\n"
     ]
    }
   ],
   "source": [
    "knn_mse = mean_squared_error(test_y, knn_preds)\n",
    "print(knn_mse)"
   ]
  },
  {
   "cell_type": "markdown",
   "metadata": {},
   "source": [
    "## DECISION TREE REGRESSOR TO PREDICT CAR PRICES"
   ]
  },
  {
   "cell_type": "markdown",
   "metadata": {},
   "source": [
    "### c) Grid Search to find best model:"
   ]
  },
  {
   "cell_type": "code",
   "execution_count": 12,
   "metadata": {},
   "outputs": [
    {
     "name": "stdout",
     "output_type": "stream",
     "text": [
      "model's best parameter: {'max_depth': None, 'max_features': 'auto', 'max_leaf_nodes': 50, 'min_samples_split': 0.1, 'random_state': 0}\n",
      "model's best MSE: 10690663.720295105\n"
     ]
    }
   ],
   "source": [
    "#Decision tree model:\n",
    "tree_reg = tree.DecisionTreeRegressor() \n",
    "\n",
    "#Hyperparameter possible combinations:\n",
    "tree_hyperparameters = [{\"max_depth\":[None, 1, 5, 10], \"min_samples_split\":[0.01, 0.05, 0.1, 0.3], \n",
    "                         \"max_features\":['auto', 'sqrt', 'log2'], \"max_leaf_nodes\":[10, 50, 100, 250],\n",
    "                        \"random_state\":[0]}]\n",
    "\n",
    "# Building decision tree regression model with grid search\n",
    "tree_reg_grid = GridSearchCV(tree_reg ,tree_hyperparameters, cv=5, scoring='neg_mean_squared_error')\n",
    "tree_reg_grid.fit(train_x_e, train_y)\n",
    "\n",
    "# model's best parameters and MSE\n",
    "print(\"model's best parameter: {}\\nmodel's best MSE: {}\".format(tree_reg_grid.best_params_,\n",
    "                                                                abs(tree_reg_grid.best_score_)))"
   ]
  },
  {
   "cell_type": "markdown",
   "metadata": {},
   "source": [
    "### d) Test your model:"
   ]
  },
  {
   "cell_type": "code",
   "execution_count": 13,
   "metadata": {},
   "outputs": [
    {
     "data": {
      "text/plain": [
       "DecisionTreeRegressor(criterion='mse', max_depth=None, max_features='auto',\n",
       "                      max_leaf_nodes=50, min_impurity_decrease=0.0,\n",
       "                      min_impurity_split=None, min_samples_leaf=1,\n",
       "                      min_samples_split=0.1, min_weight_fraction_leaf=0.0,\n",
       "                      presort=False, random_state=0, splitter='best')"
      ]
     },
     "execution_count": 13,
     "metadata": {},
     "output_type": "execute_result"
    }
   ],
   "source": [
    "# Decision tree regression model with best hyperparameter\n",
    "best_tree = tree.DecisionTreeRegressor(max_depth= None, max_features='auto', max_leaf_nodes=50,\n",
    "                                       min_samples_split=0.1, random_state= 0)\n",
    "\n",
    "best_tree.fit(train_x_e, train_y) #fit the model"
   ]
  },
  {
   "cell_type": "code",
   "execution_count": 14,
   "metadata": {},
   "outputs": [],
   "source": [
    "tree_preds = best_tree.predict(test_x)  #predict on test data"
   ]
  },
  {
   "cell_type": "code",
   "execution_count": 15,
   "metadata": {},
   "outputs": [
    {
     "name": "stdout",
     "output_type": "stream",
     "text": [
      "9779323.383824795\n"
     ]
    }
   ],
   "source": [
    "# test MSE\n",
    "tree_mse = mean_squared_error(test_y, tree_preds)\n",
    "print(tree_mse)"
   ]
  },
  {
   "cell_type": "markdown",
   "metadata": {},
   "source": [
    "## ENSEMBLE BAGGING REGRESSOR TO PREDICT CAR PRICES"
   ]
  },
  {
   "cell_type": "markdown",
   "metadata": {},
   "source": [
    "### e) Grid Search to find best model:"
   ]
  },
  {
   "cell_type": "code",
   "execution_count": 16,
   "metadata": {
    "ExecuteTime": {
     "end_time": "2019-12-13T18:09:52.935086Z",
     "start_time": "2019-12-13T18:09:52.931109Z"
    }
   },
   "outputs": [
    {
     "name": "stdout",
     "output_type": "stream",
     "text": [
      "model's best parameter: {'base_estimator': DecisionTreeRegressor(criterion='mse', max_depth=None, max_features=None,\n",
      "                      max_leaf_nodes=None, min_impurity_decrease=0.0,\n",
      "                      min_impurity_split=None, min_samples_leaf=1,\n",
      "                      min_samples_split=2, min_weight_fraction_leaf=0.0,\n",
      "                      presort=False, random_state=0, splitter='best'), 'bootstrap_features': True, 'n_estimators': 25, 'random_state': 0}\n",
      "model's best MSE: 7755675.6330857705\n"
     ]
    }
   ],
   "source": [
    "# Bagging ensemble model:\n",
    "bag_reg = ensemble.BaggingRegressor()\n",
    "\n",
    "#Hyperparameter possible combinations:\n",
    "bag_hyperparameters = [{'base_estimator':[LinearRegression(), neighbors.KNeighborsRegressor(), \n",
    "                                              tree.DecisionTreeRegressor(random_state=0)],\n",
    "                           'n_estimators':[25, 50, 100, 250],\n",
    "                           'bootstrap_features':[True, False],\n",
    "                           'random_state':[0]}]\n",
    "\n",
    "\n",
    "# Building Bagging ensemble model with grid search\n",
    "bag_grid = GridSearchCV(bag_reg ,bag_hyperparameters, cv=5, scoring='neg_mean_squared_error')\n",
    "bag_grid.fit(train_x_e, train_y)\n",
    "\n",
    "# model's best parameters and MSE\n",
    "print(\"model's best parameter: {}\\nmodel's best MSE: {}\".format(bag_grid.best_params_,\n",
    "                                                                abs(bag_grid.best_score_)))"
   ]
  },
  {
   "cell_type": "markdown",
   "metadata": {},
   "source": [
    "### f) Test your model:"
   ]
  },
  {
   "cell_type": "code",
   "execution_count": 17,
   "metadata": {},
   "outputs": [
    {
     "data": {
      "text/plain": [
       "BaggingRegressor(base_estimator=DecisionTreeRegressor(criterion='mse',\n",
       "                                                      max_depth=None,\n",
       "                                                      max_features=None,\n",
       "                                                      max_leaf_nodes=None,\n",
       "                                                      min_impurity_decrease=0.0,\n",
       "                                                      min_impurity_split=None,\n",
       "                                                      min_samples_leaf=1,\n",
       "                                                      min_samples_split=2,\n",
       "                                                      min_weight_fraction_leaf=0.0,\n",
       "                                                      presort=False,\n",
       "                                                      random_state=0,\n",
       "                                                      splitter='best'),\n",
       "                 bootstrap=True, bootstrap_features=True, max_features=1.0,\n",
       "                 max_samples=1.0, n_estimators=25, n_jobs=None, oob_score=False,\n",
       "                 random_state=0, verbose=0, warm_start=False)"
      ]
     },
     "execution_count": 17,
     "metadata": {},
     "output_type": "execute_result"
    }
   ],
   "source": [
    "# Ensemble Bagging regression model with best hyperparameter\n",
    "best_bag = ensemble.BaggingRegressor(base_estimator=tree.DecisionTreeRegressor(random_state=0),\n",
    "                                    n_estimators=25, bootstrap_features=True, random_state=0)\n",
    "\n",
    "best_bag.fit(train_x_e, train_y) #fit the model"
   ]
  },
  {
   "cell_type": "code",
   "execution_count": 18,
   "metadata": {},
   "outputs": [],
   "source": [
    "bag_preds = best_bag.predict(test_x)  #predict on test data"
   ]
  },
  {
   "cell_type": "code",
   "execution_count": 19,
   "metadata": {},
   "outputs": [
    {
     "name": "stdout",
     "output_type": "stream",
     "text": [
      "5288467.527889098\n"
     ]
    }
   ],
   "source": [
    "# test MSE\n",
    "bag_mse = mean_squared_error(test_y, bag_preds)\n",
    "print(bag_mse)"
   ]
  },
  {
   "cell_type": "markdown",
   "metadata": {},
   "source": [
    "## RANDOM FOREST REGRESSOR TO PREDICT CAR PRICES"
   ]
  },
  {
   "cell_type": "markdown",
   "metadata": {},
   "source": [
    "### g) Grid Search to find best model:"
   ]
  },
  {
   "cell_type": "code",
   "execution_count": 20,
   "metadata": {},
   "outputs": [
    {
     "name": "stdout",
     "output_type": "stream",
     "text": [
      "model's best parameter: {'max_depth': 10, 'n_estimators': 250, 'random_state': 0}\n",
      "model's best MSE: 8924333.957615709\n"
     ]
    }
   ],
   "source": [
    "# Random forest regression model:\n",
    "forest_reg = ensemble.RandomForestRegressor()\n",
    "\n",
    "#Hyperparameter possible combinations:\n",
    "forest_hyperparameters = [{'n_estimators':[25, 50, 100, 250], \n",
    "                          'max_depth':[None, 1, 5, 10], \n",
    "                          'random_state':[0]}]\n",
    "# Building Random forest model with grid search\n",
    "forest_grid = GridSearchCV(forest_reg ,forest_hyperparameters, cv=5, scoring='neg_mean_squared_error')\n",
    "forest_grid.fit(train_x_e, train_y)\n",
    "\n",
    "# model's best parameters and MSE\n",
    "print(\"model's best parameter: {}\\nmodel's best MSE: {}\".format(forest_grid.best_params_,\n",
    "                                                                abs(forest_grid.best_score_)))"
   ]
  },
  {
   "cell_type": "markdown",
   "metadata": {},
   "source": [
    "### h) Test your model:"
   ]
  },
  {
   "cell_type": "code",
   "execution_count": 21,
   "metadata": {},
   "outputs": [
    {
     "data": {
      "text/plain": [
       "RandomForestRegressor(bootstrap=True, criterion='mse', max_depth=10,\n",
       "                      max_features='auto', max_leaf_nodes=None,\n",
       "                      min_impurity_decrease=0.0, min_impurity_split=None,\n",
       "                      min_samples_leaf=1, min_samples_split=2,\n",
       "                      min_weight_fraction_leaf=0.0, n_estimators=250,\n",
       "                      n_jobs=None, oob_score=False, random_state=0, verbose=0,\n",
       "                      warm_start=False)"
      ]
     },
     "execution_count": 21,
     "metadata": {},
     "output_type": "execute_result"
    }
   ],
   "source": [
    "# Random forest regression model with best hyperparameter\n",
    "best_forest = ensemble.RandomForestRegressor(n_estimators= 250, max_depth=10, random_state= 0)\n",
    "\n",
    "best_forest.fit(train_x_e, train_y) #fit the model"
   ]
  },
  {
   "cell_type": "code",
   "execution_count": 22,
   "metadata": {},
   "outputs": [],
   "source": [
    "forest_preds =  best_forest.predict(test_x)  #predict on test data"
   ]
  },
  {
   "cell_type": "code",
   "execution_count": 23,
   "metadata": {},
   "outputs": [
    {
     "name": "stdout",
     "output_type": "stream",
     "text": [
      "4725492.046530109\n"
     ]
    }
   ],
   "source": [
    "# test MSE\n",
    "forest_mse = mean_squared_error(test_y, forest_preds)\n",
    "print(forest_mse)"
   ]
  },
  {
   "cell_type": "markdown",
   "metadata": {},
   "source": [
    "### i) Feature Importances:"
   ]
  },
  {
   "cell_type": "code",
   "execution_count": 24,
   "metadata": {},
   "outputs": [
    {
     "name": "stdout",
     "output_type": "stream",
     "text": [
      "enginesize = 0.6357477722425351\n",
      "curbweight = 0.10709443408519428\n",
      "highwaympg = 0.04206867017966015\n"
     ]
    }
   ],
   "source": [
    "# List of features taken from my function in assignment 1\n",
    "feature_names = ['wheelbase', \n",
    "                 'carlength', \n",
    "                 'carwidth', \n",
    "                 'carheight', \n",
    "                 'curbweight', \n",
    "                 'enginesize', \n",
    "                 'boreratio', \n",
    "                 'stroke', \n",
    "                 'compressionratio', \n",
    "                 'horsepower', \n",
    "                 'peakrpm', \n",
    "                 'citympg', \n",
    "                 'highwaympg',\n",
    "                 'diesel_fueltype',\n",
    "                 'gas_fueltype',\n",
    "                 'std_aspiration',\n",
    "                 'turbo_aspiration',\n",
    "                 'four_doornumber',\n",
    "                 'two_doornumber',\n",
    "                 'convertible_carbody',\n",
    "                 'hardtop_carbody',\n",
    "                 'hatchback_carbody',\n",
    "                 'sedan_carbody',\n",
    "                 'wagon_carbody',\n",
    "                 '4wd_drivewheel',\n",
    "                 'fwd_drivewheel',\n",
    "                 'rwd_drivewheel',\n",
    "                 'front_enginelocation',\n",
    "                 'rear_enginelocation',\n",
    "                 'dohc_enginetype',\n",
    "                 'l_enginetype',\n",
    "                 'ohc_enginetype',\n",
    "                 'ohcf_enginetype',\n",
    "                 'ohcv_enginetype',\n",
    "                 'rotor_enginetype',\n",
    "                 'eight_cylindernumber',\n",
    "                 'five_cylindernumber',\n",
    "                 'four_cylindernumber',\n",
    "                 'six_cylindernumber',\n",
    "                 'three_cylindernumber',\n",
    "                 'twelve_cylindernumber',\n",
    "                 'two_cylindernumber',\n",
    "                 '1bbl_fuelsystem',\n",
    "                 '2bbl_fuelsystem',\n",
    "                 '4bbl_fuelsystem',\n",
    "                 'idi_fuelsystem',\n",
    "                 'mfi_fuelsystem',\n",
    "                 'mpfi_fuelsystem',\n",
    "                 'spdi_fuelsystem']\n",
    "\n",
    "# Creating dic for feature importance\n",
    "feature_importance={}\n",
    "for name, score in zip(feature_names, best_forest.feature_importances_):\n",
    "    feature_importance[name] = score\n",
    "\n",
    "# Ordering features based on scores\n",
    "sorted_feature_importance = sorted(feature_importance, key=feature_importance.get, reverse=True)\n",
    "\n",
    "#Printing the three most important features\n",
    "count = 0 \n",
    "for i in sorted_feature_importance:\n",
    "    if count < 3:\n",
    "        print(i + ' = '+ str(feature_importance[i]))\n",
    "    count +=1"
   ]
  }
 ],
 "metadata": {
  "kernelspec": {
   "display_name": "Python 3",
   "language": "python",
   "name": "python3"
  },
  "language_info": {
   "codemirror_mode": {
    "name": "ipython",
    "version": 3
   },
   "file_extension": ".py",
   "mimetype": "text/x-python",
   "name": "python",
   "nbconvert_exporter": "python",
   "pygments_lexer": "ipython3",
   "version": "3.7.4"
  },
  "toc": {
   "base_numbering": 1,
   "nav_menu": {},
   "number_sections": false,
   "sideBar": true,
   "skip_h1_title": false,
   "title_cell": "Table of Contents",
   "title_sidebar": "Contents",
   "toc_cell": false,
   "toc_position": {
    "height": "calc(100% - 180px)",
    "left": "10px",
    "top": "150px",
    "width": "284.444px"
   },
   "toc_section_display": true,
   "toc_window_display": false
  },
  "varInspector": {
   "cols": {
    "lenName": 16,
    "lenType": 16,
    "lenVar": 40
   },
   "kernels_config": {
    "python": {
     "delete_cmd_postfix": "",
     "delete_cmd_prefix": "del ",
     "library": "var_list.py",
     "varRefreshCmd": "print(var_dic_list())"
    },
    "r": {
     "delete_cmd_postfix": ") ",
     "delete_cmd_prefix": "rm(",
     "library": "var_list.r",
     "varRefreshCmd": "cat(var_dic_list()) "
    }
   },
   "types_to_exclude": [
    "module",
    "function",
    "builtin_function_or_method",
    "instance",
    "_Feature"
   ],
   "window_display": false
  }
 },
 "nbformat": 4,
 "nbformat_minor": 2
}
